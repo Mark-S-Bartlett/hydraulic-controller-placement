{
 "cells": [
  {
   "cell_type": "code",
   "execution_count": 1,
   "metadata": {},
   "outputs": [],
   "source": [
    "import json\n",
    "import numpy as np\n",
    "import pandas as pd\n",
    "import matplotlib.pyplot as plt\n",
    "from matplotlib import gridspec\n",
    "from matplotlib import cm\n",
    "from pysheds.grid import Grid\n",
    "from pysheds.view import Raster\n",
    "from matplotlib import colors\n",
    "import seaborn as sns\n",
    "import warnings\n",
    "from partition import differentiated_linear_weights, differentiated_power_weights, threshold_weights, differentiated_recursive_partition, naive_partition\n",
    "\n",
    "warnings.filterwarnings('ignore')\n",
    "sns.set_palette('husl', 8)\n",
    "sns.set()\n",
    "\n",
    "%matplotlib inline"
   ]
  },
  {
   "cell_type": "code",
   "execution_count": 2,
   "metadata": {},
   "outputs": [],
   "source": [
    "output = {}"
   ]
  },
  {
   "cell_type": "markdown",
   "metadata": {},
   "source": [
    "# Generate graph"
   ]
  },
  {
   "cell_type": "code",
   "execution_count": 3,
   "metadata": {},
   "outputs": [],
   "source": [
    "grid = Grid.from_raster('../data/n30w100_dir', data_name='dir')\n",
    "\n",
    "dirmap = (64,  128,  1,   2,    4,   8,    16,  32)\n",
    "\n",
    "# Specify pour point\n",
    "x, y = -97.294167, 32.73750\n",
    "\n",
    "# Delineate the catchment\n",
    "grid.catchment(data='dir', x=x, y=y, dirmap=dirmap, out_name='catch',\n",
    "               recursionlimit=15000, xytype='label')\n",
    "\n",
    "# Clip the bounding box to the catchment\n",
    "grid.clip_to('catch', pad=(1,1,1,1))\n",
    "\n",
    "#Compute flow accumulation\n",
    "grid.accumulation(data='catch', out_name='acc', dirmap=dirmap)\n",
    "\n",
    "# Compute flow distance\n",
    "grid.flow_distance(data='catch', x=x, y=y, dirmap=dirmap, out_name='dist', xytype='label')\n",
    "dist = grid.view('dist', nodata=0, dtype=np.float64)"
   ]
  },
  {
   "cell_type": "code",
   "execution_count": 4,
   "metadata": {},
   "outputs": [],
   "source": [
    "dist_weights = (np.where(grid.view('acc') >= 100, 0.1, 0) \n",
    "                + np.where((0 < grid.view('acc')) & (grid.view('acc') <= 100), 1, 0)).ravel()\n",
    "\n",
    "dists = grid.flow_distance(data='catch', x=x, y=y, weights=dist_weights,\n",
    "                           dirmap=dirmap, out_name='dist', xytype='label', inplace=False)"
   ]
  },
  {
   "cell_type": "markdown",
   "metadata": {},
   "source": [
    "# Linear weighting"
   ]
  },
  {
   "cell_type": "code",
   "execution_count": 5,
   "metadata": {},
   "outputs": [],
   "source": [
    "weights = differentiated_linear_weights(dists)"
   ]
  },
  {
   "cell_type": "code",
   "execution_count": 6,
   "metadata": {},
   "outputs": [],
   "source": [
    "acc = grid.accumulation(data='catch', dirmap=dirmap, inplace=False)\n",
    "wacc = grid.accumulation(data='catch', weights=weights, dirmap=dirmap, inplace=False)"
   ]
  },
  {
   "cell_type": "code",
   "execution_count": 7,
   "metadata": {},
   "outputs": [],
   "source": [
    "k = 1\n",
    "c = 6000\n",
    "fdir = grid.view('catch')\n",
    "subs, ixes = differentiated_recursive_partition(fdir, c, k, weights=weights, dist_weights=dist_weights,\n",
    "                                                grid=grid, compute_weights=differentiated_linear_weights)\n",
    "ixy, ixx = np.unravel_index(ixes, acc.shape)"
   ]
  },
  {
   "cell_type": "code",
   "execution_count": 8,
   "metadata": {},
   "outputs": [],
   "source": [
    "cells_per_catch = [np.count_nonzero(sub) for sub in subs]\n",
    "numcells = sum(cells_per_catch)\n",
    "pct_cells = float(numcells / acc.max())\n",
    "\n",
    "experiment = {}\n",
    "experiment['weighting'] = 'linear'\n",
    "experiment['num_controllers'] = k\n",
    "experiment['max_accumulation'] = c\n",
    "experiment['cells_controlled'] = numcells\n",
    "experiment['pct_controlled'] = pct_cells\n",
    "experiment['controller_locs'] = [int(ix) for ix in ixes]\n",
    "experiment['cells_per_catch'] = cells_per_catch\n",
    "experiment['phi'] = 10\n",
    "output.update({'linear_k{0}_50pct_phi10'.format(k) : experiment})"
   ]
  },
  {
   "cell_type": "code",
   "execution_count": 9,
   "metadata": {},
   "outputs": [
    {
     "data": {
      "text/plain": [
       "0.5248642969707582"
      ]
     },
     "execution_count": 9,
     "metadata": {},
     "output_type": "execute_result"
    }
   ],
   "source": [
    "pct_cells"
   ]
  },
  {
   "cell_type": "code",
   "execution_count": 10,
   "metadata": {},
   "outputs": [],
   "source": [
    "k = 2\n",
    "c = 3300\n",
    "fdir = grid.view('catch')\n",
    "subs, ixes = differentiated_recursive_partition(fdir, c, k, weights=weights, dist_weights=dist_weights,\n",
    "                                                grid=grid, compute_weights=differentiated_linear_weights)\n",
    "ixy, ixx = np.unravel_index(ixes, wacc.shape)"
   ]
  },
  {
   "cell_type": "code",
   "execution_count": 11,
   "metadata": {},
   "outputs": [],
   "source": [
    "cells_per_catch = [np.count_nonzero(sub) for sub in subs]\n",
    "numcells = sum(cells_per_catch)\n",
    "pct_cells = float(numcells / acc.max())\n",
    "\n",
    "experiment = {}\n",
    "experiment['weighting'] = 'linear'\n",
    "experiment['num_controllers'] = k\n",
    "experiment['max_accumulation'] = c\n",
    "experiment['cells_controlled'] = numcells\n",
    "experiment['pct_controlled'] = pct_cells\n",
    "experiment['controller_locs'] = [int(ix) for ix in ixes]\n",
    "experiment['cells_per_catch'] = cells_per_catch\n",
    "experiment['phi'] = 10\n",
    "output.update({'linear_k{0}_50pct_phi10'.format(k) : experiment})"
   ]
  },
  {
   "cell_type": "code",
   "execution_count": 12,
   "metadata": {},
   "outputs": [
    {
     "data": {
      "text/plain": [
       "0.5257398003852215"
      ]
     },
     "execution_count": 12,
     "metadata": {},
     "output_type": "execute_result"
    }
   ],
   "source": [
    "pct_cells"
   ]
  },
  {
   "cell_type": "code",
   "execution_count": 13,
   "metadata": {},
   "outputs": [],
   "source": [
    "k = 3\n",
    "c = 6300 // 3\n",
    "fdir = grid.view('catch')\n",
    "subs, ixes = differentiated_recursive_partition(fdir, c, k, weights=weights, dist_weights=dist_weights,\n",
    "                                                grid=grid, compute_weights=differentiated_linear_weights)\n",
    "ixy, ixx = np.unravel_index(ixes, wacc.shape)"
   ]
  },
  {
   "cell_type": "code",
   "execution_count": 14,
   "metadata": {},
   "outputs": [],
   "source": [
    "cells_per_catch = [np.count_nonzero(sub) for sub in subs]\n",
    "numcells = sum(cells_per_catch)\n",
    "pct_cells = float(numcells / acc.max())\n",
    "\n",
    "experiment = {}\n",
    "experiment['weighting'] = 'linear'\n",
    "experiment['num_controllers'] = k\n",
    "experiment['max_accumulation'] = c\n",
    "experiment['cells_controlled'] = numcells\n",
    "experiment['pct_controlled'] = pct_cells\n",
    "experiment['controller_locs'] = [int(ix) for ix in ixes]\n",
    "experiment['cells_per_catch'] = cells_per_catch\n",
    "experiment['phi'] = 10\n",
    "output.update({'linear_k{0}_50pct_phi10'.format(k) : experiment})"
   ]
  },
  {
   "cell_type": "code",
   "execution_count": 15,
   "metadata": {},
   "outputs": [
    {
     "data": {
      "text/plain": [
       "0.5257398003852215"
      ]
     },
     "execution_count": 15,
     "metadata": {},
     "output_type": "execute_result"
    }
   ],
   "source": [
    "pct_cells"
   ]
  },
  {
   "cell_type": "code",
   "execution_count": 16,
   "metadata": {},
   "outputs": [],
   "source": [
    "k = 4\n",
    "c = 6500 // k\n",
    "fdir = grid.view('catch')\n",
    "subs, ixes = differentiated_recursive_partition(fdir, c, k, weights=weights, dist_weights=dist_weights,\n",
    "                                                grid=grid, compute_weights=differentiated_linear_weights)\n",
    "ixy, ixx = np.unravel_index(ixes, wacc.shape)"
   ]
  },
  {
   "cell_type": "code",
   "execution_count": 17,
   "metadata": {},
   "outputs": [],
   "source": [
    "cells_per_catch = [np.count_nonzero(sub) for sub in subs]\n",
    "numcells = sum(cells_per_catch)\n",
    "pct_cells = float(numcells / acc.max())\n",
    "\n",
    "experiment = {}\n",
    "experiment['weighting'] = 'linear'\n",
    "experiment['num_controllers'] = k\n",
    "experiment['max_accumulation'] = c\n",
    "experiment['cells_controlled'] = numcells\n",
    "experiment['pct_controlled'] = pct_cells\n",
    "experiment['controller_locs'] = [int(ix) for ix in ixes]\n",
    "experiment['cells_per_catch'] = cells_per_catch\n",
    "experiment['phi'] = 10\n",
    "output.update({'linear_k{0}_50pct_phi10'.format(k) : experiment})"
   ]
  },
  {
   "cell_type": "code",
   "execution_count": 18,
   "metadata": {},
   "outputs": [
    {
     "data": {
      "text/plain": [
       "0.4903694624409035"
      ]
     },
     "execution_count": 18,
     "metadata": {},
     "output_type": "execute_result"
    }
   ],
   "source": [
    "pct_cells"
   ]
  },
  {
   "cell_type": "code",
   "execution_count": 19,
   "metadata": {},
   "outputs": [],
   "source": [
    "k = 5\n",
    "c = 6300 // k\n",
    "fdir = grid.view('catch')\n",
    "subs, ixes = differentiated_recursive_partition(fdir, c, k, weights=weights, dist_weights=dist_weights,\n",
    "                                                grid=grid, compute_weights=differentiated_linear_weights)\n",
    "ixy, ixx = np.unravel_index(ixes, wacc.shape)"
   ]
  },
  {
   "cell_type": "code",
   "execution_count": 20,
   "metadata": {},
   "outputs": [],
   "source": [
    "cells_per_catch = [np.count_nonzero(sub) for sub in subs]\n",
    "numcells = sum(cells_per_catch)\n",
    "pct_cells = float(numcells / acc.max())\n",
    "\n",
    "experiment = {}\n",
    "experiment['weighting'] = 'linear'\n",
    "experiment['num_controllers'] = k\n",
    "experiment['max_accumulation'] = c\n",
    "experiment['cells_controlled'] = numcells\n",
    "experiment['pct_controlled'] = pct_cells\n",
    "experiment['controller_locs'] = [int(ix) for ix in ixes]\n",
    "experiment['cells_per_catch'] = cells_per_catch\n",
    "experiment['phi'] = 10\n",
    "output.update({'linear_k{0}_50pct_phi10'.format(k) : experiment})"
   ]
  },
  {
   "cell_type": "code",
   "execution_count": 21,
   "metadata": {},
   "outputs": [
    {
     "data": {
      "text/plain": [
       "0.4891437576606549"
      ]
     },
     "execution_count": 21,
     "metadata": {},
     "output_type": "execute_result"
    }
   ],
   "source": [
    "pct_cells"
   ]
  },
  {
   "cell_type": "code",
   "execution_count": 22,
   "metadata": {},
   "outputs": [],
   "source": [
    "k = 6\n",
    "c = 6580 // k\n",
    "fdir = grid.view('catch')\n",
    "subs, ixes = differentiated_recursive_partition(fdir, c, k, weights=weights, dist_weights=dist_weights,\n",
    "                                                grid=grid, compute_weights=differentiated_linear_weights)\n",
    "ixy, ixx = np.unravel_index(ixes, wacc.shape)"
   ]
  },
  {
   "cell_type": "code",
   "execution_count": 23,
   "metadata": {},
   "outputs": [],
   "source": [
    "cells_per_catch = [np.count_nonzero(sub) for sub in subs]\n",
    "numcells = sum(cells_per_catch)\n",
    "pct_cells = float(numcells / acc.max())\n",
    "\n",
    "experiment = {}\n",
    "experiment['weighting'] = 'linear'\n",
    "experiment['num_controllers'] = k\n",
    "experiment['max_accumulation'] = c\n",
    "experiment['cells_controlled'] = numcells\n",
    "experiment['pct_controlled'] = pct_cells\n",
    "experiment['controller_locs'] = [int(ix) for ix in ixes]\n",
    "experiment['cells_per_catch'] = cells_per_catch\n",
    "experiment['phi'] = 10\n",
    "output.update({'linear_k{0}_50pct_phi10'.format(k) : experiment})"
   ]
  },
  {
   "cell_type": "code",
   "execution_count": 24,
   "metadata": {},
   "outputs": [
    {
     "data": {
      "text/plain": [
       "0.5237261425319559"
      ]
     },
     "execution_count": 24,
     "metadata": {},
     "output_type": "execute_result"
    }
   ],
   "source": [
    "pct_cells"
   ]
  },
  {
   "cell_type": "code",
   "execution_count": 25,
   "metadata": {},
   "outputs": [],
   "source": [
    "k = 8\n",
    "c = 7000 // k\n",
    "fdir = grid.view('catch')\n",
    "subs, ixes = differentiated_recursive_partition(fdir, c, k, weights=weights, dist_weights=dist_weights,\n",
    "                                                grid=grid, compute_weights=differentiated_linear_weights)\n",
    "ixy, ixx = np.unravel_index(ixes, wacc.shape)"
   ]
  },
  {
   "cell_type": "code",
   "execution_count": 26,
   "metadata": {},
   "outputs": [],
   "source": [
    "cells_per_catch = [np.count_nonzero(sub) for sub in subs]\n",
    "numcells = sum(cells_per_catch)\n",
    "pct_cells = float(numcells / acc.max())\n",
    "\n",
    "experiment = {}\n",
    "experiment['weighting'] = 'linear'\n",
    "experiment['num_controllers'] = k\n",
    "experiment['max_accumulation'] = c\n",
    "experiment['cells_controlled'] = numcells\n",
    "experiment['pct_controlled'] = pct_cells\n",
    "experiment['controller_locs'] = [int(ix) for ix in ixes]\n",
    "experiment['cells_per_catch'] = cells_per_catch\n",
    "experiment['phi'] = 10\n",
    "output.update({'linear_k{0}_50pct_phi10'.format(k) : experiment})"
   ]
  },
  {
   "cell_type": "code",
   "execution_count": 27,
   "metadata": {},
   "outputs": [
    {
     "data": {
      "text/plain": [
       "0.5232008404832779"
      ]
     },
     "execution_count": 27,
     "metadata": {},
     "output_type": "execute_result"
    }
   ],
   "source": [
    "pct_cells"
   ]
  },
  {
   "cell_type": "code",
   "execution_count": 28,
   "metadata": {},
   "outputs": [],
   "source": [
    "k = 10\n",
    "c = 6500 // k\n",
    "fdir = grid.view('catch')\n",
    "subs, ixes = differentiated_recursive_partition(fdir, c, k, weights=weights, dist_weights=dist_weights,\n",
    "                                                grid=grid, compute_weights=differentiated_linear_weights)\n",
    "ixy, ixx = np.unravel_index(ixes, wacc.shape)"
   ]
  },
  {
   "cell_type": "code",
   "execution_count": 29,
   "metadata": {},
   "outputs": [],
   "source": [
    "cells_per_catch = [np.count_nonzero(sub) for sub in subs]\n",
    "numcells = sum(cells_per_catch)\n",
    "pct_cells = float(numcells / acc.max())\n",
    "\n",
    "experiment = {}\n",
    "experiment['weighting'] = 'linear'\n",
    "experiment['num_controllers'] = k\n",
    "experiment['max_accumulation'] = c\n",
    "experiment['cells_controlled'] = numcells\n",
    "experiment['pct_controlled'] = pct_cells\n",
    "experiment['controller_locs'] = [int(ix) for ix in ixes]\n",
    "experiment['cells_per_catch'] = cells_per_catch\n",
    "experiment['phi'] = 10\n",
    "output.update({'linear_k{0}_50pct_phi10'.format(k) : experiment})"
   ]
  },
  {
   "cell_type": "code",
   "execution_count": 30,
   "metadata": {},
   "outputs": [
    {
     "data": {
      "text/plain": [
       "0.5136578532656277"
      ]
     },
     "execution_count": 30,
     "metadata": {},
     "output_type": "execute_result"
    }
   ],
   "source": [
    "pct_cells"
   ]
  },
  {
   "cell_type": "code",
   "execution_count": 31,
   "metadata": {},
   "outputs": [],
   "source": [
    "k = 12\n",
    "c = 6500 // k\n",
    "fdir = grid.view('catch')\n",
    "subs, ixes = differentiated_recursive_partition(fdir, c, k, weights=weights, dist_weights=dist_weights,\n",
    "                                                grid=grid, compute_weights=differentiated_linear_weights)\n",
    "ixy, ixx = np.unravel_index(ixes, wacc.shape)"
   ]
  },
  {
   "cell_type": "code",
   "execution_count": 32,
   "metadata": {},
   "outputs": [],
   "source": [
    "cells_per_catch = [np.count_nonzero(sub) for sub in subs]\n",
    "numcells = sum(cells_per_catch)\n",
    "pct_cells = float(numcells / acc.max())\n",
    "\n",
    "experiment = {}\n",
    "experiment['weighting'] = 'linear'\n",
    "experiment['num_controllers'] = k\n",
    "experiment['max_accumulation'] = c\n",
    "experiment['cells_controlled'] = numcells\n",
    "experiment['pct_controlled'] = pct_cells\n",
    "experiment['controller_locs'] = [int(ix) for ix in ixes]\n",
    "experiment['cells_per_catch'] = cells_per_catch\n",
    "experiment['phi'] = 10\n",
    "output.update({'linear_k{0}_50pct_phi10'.format(k) : experiment})"
   ]
  },
  {
   "cell_type": "code",
   "execution_count": 33,
   "metadata": {},
   "outputs": [
    {
     "data": {
      "text/plain": [
       "0.4956224829276834"
      ]
     },
     "execution_count": 33,
     "metadata": {},
     "output_type": "execute_result"
    }
   ],
   "source": [
    "pct_cells"
   ]
  },
  {
   "cell_type": "code",
   "execution_count": 34,
   "metadata": {},
   "outputs": [],
   "source": [
    "k = 14\n",
    "c = 6900 // k\n",
    "fdir = grid.view('catch')\n",
    "subs, ixes = differentiated_recursive_partition(fdir, c, k, weights=weights, dist_weights=dist_weights,\n",
    "                                                grid=grid, compute_weights=differentiated_linear_weights)\n",
    "ixy, ixx = np.unravel_index(ixes, wacc.shape)"
   ]
  },
  {
   "cell_type": "code",
   "execution_count": 35,
   "metadata": {},
   "outputs": [],
   "source": [
    "cells_per_catch = [np.count_nonzero(sub) for sub in subs]\n",
    "numcells = sum(cells_per_catch)\n",
    "pct_cells = float(numcells / acc.max())\n",
    "\n",
    "experiment = {}\n",
    "experiment['weighting'] = 'linear'\n",
    "experiment['num_controllers'] = k\n",
    "experiment['max_accumulation'] = c\n",
    "experiment['cells_controlled'] = numcells\n",
    "experiment['pct_controlled'] = pct_cells\n",
    "experiment['controller_locs'] = [int(ix) for ix in ixes]\n",
    "experiment['cells_per_catch'] = cells_per_catch\n",
    "experiment['phi'] = 10\n",
    "output.update({'linear_k{0}_50pct_phi10'.format(k) : experiment})"
   ]
  },
  {
   "cell_type": "code",
   "execution_count": 36,
   "metadata": {},
   "outputs": [
    {
     "data": {
      "text/plain": [
       "0.5155839607774471"
      ]
     },
     "execution_count": 36,
     "metadata": {},
     "output_type": "execute_result"
    }
   ],
   "source": [
    "pct_cells"
   ]
  },
  {
   "cell_type": "code",
   "execution_count": 37,
   "metadata": {},
   "outputs": [],
   "source": [
    "k = 16\n",
    "c = 6720 // k\n",
    "fdir = grid.view('catch')\n",
    "subs, ixes = differentiated_recursive_partition(fdir, c, k, weights=weights, dist_weights=dist_weights,\n",
    "                                                grid=grid, compute_weights=differentiated_linear_weights)\n",
    "ixy, ixx = np.unravel_index(ixes, wacc.shape)"
   ]
  },
  {
   "cell_type": "code",
   "execution_count": 38,
   "metadata": {},
   "outputs": [],
   "source": [
    "cells_per_catch = [np.count_nonzero(sub) for sub in subs]\n",
    "numcells = sum(cells_per_catch)\n",
    "pct_cells = float(numcells / acc.max())\n",
    "\n",
    "experiment = {}\n",
    "experiment['weighting'] = 'linear'\n",
    "experiment['num_controllers'] = k\n",
    "experiment['max_accumulation'] = c\n",
    "experiment['cells_controlled'] = numcells\n",
    "experiment['pct_controlled'] = pct_cells\n",
    "experiment['controller_locs'] = [int(ix) for ix in ixes]\n",
    "experiment['cells_per_catch'] = cells_per_catch\n",
    "experiment['phi'] = 10\n",
    "output.update({'linear_k{0}_50pct_phi10'.format(k) : experiment})"
   ]
  },
  {
   "cell_type": "code",
   "execution_count": 39,
   "metadata": {},
   "outputs": [
    {
     "data": {
      "text/plain": [
       "0.5029767116091752"
      ]
     },
     "execution_count": 39,
     "metadata": {},
     "output_type": "execute_result"
    }
   ],
   "source": [
    "pct_cells"
   ]
  },
  {
   "cell_type": "code",
   "execution_count": 40,
   "metadata": {},
   "outputs": [],
   "source": [
    "k = 18\n",
    "c = 6720 // k\n",
    "fdir = grid.view('catch')\n",
    "subs, ixes = differentiated_recursive_partition(fdir, c, k, weights=weights, dist_weights=dist_weights,\n",
    "                                                grid=grid, compute_weights=differentiated_linear_weights)\n",
    "ixy, ixx = np.unravel_index(ixes, wacc.shape)"
   ]
  },
  {
   "cell_type": "code",
   "execution_count": 41,
   "metadata": {},
   "outputs": [],
   "source": [
    "cells_per_catch = [np.count_nonzero(sub) for sub in subs]\n",
    "numcells = sum(cells_per_catch)\n",
    "pct_cells = float(numcells / acc.max())\n",
    "\n",
    "experiment = {}\n",
    "experiment['weighting'] = 'linear'\n",
    "experiment['num_controllers'] = k\n",
    "experiment['max_accumulation'] = c\n",
    "experiment['cells_controlled'] = numcells\n",
    "experiment['pct_controlled'] = pct_cells\n",
    "experiment['controller_locs'] = [int(ix) for ix in ixes]\n",
    "experiment['cells_per_catch'] = cells_per_catch\n",
    "experiment['phi'] = 10\n",
    "output.update({'linear_k{0}_50pct_phi10'.format(k) : experiment})"
   ]
  },
  {
   "cell_type": "code",
   "execution_count": 42,
   "metadata": {},
   "outputs": [
    {
     "data": {
      "text/plain": [
       "0.49684818770793204"
      ]
     },
     "execution_count": 42,
     "metadata": {},
     "output_type": "execute_result"
    }
   ],
   "source": [
    "pct_cells"
   ]
  },
  {
   "cell_type": "code",
   "execution_count": 43,
   "metadata": {},
   "outputs": [],
   "source": [
    "k = 20\n",
    "c = 6720 // k\n",
    "fdir = grid.view('catch')\n",
    "subs, ixes = differentiated_recursive_partition(fdir, c, k, weights=weights, dist_weights=dist_weights,\n",
    "                                                grid=grid, compute_weights=differentiated_linear_weights)\n",
    "ixy, ixx = np.unravel_index(ixes, wacc.shape)"
   ]
  },
  {
   "cell_type": "code",
   "execution_count": 44,
   "metadata": {},
   "outputs": [],
   "source": [
    "cells_per_catch = [np.count_nonzero(sub) for sub in subs]\n",
    "numcells = sum(cells_per_catch)\n",
    "pct_cells = float(numcells / acc.max())\n",
    "\n",
    "experiment = {}\n",
    "experiment['weighting'] = 'linear'\n",
    "experiment['num_controllers'] = k\n",
    "experiment['max_accumulation'] = c\n",
    "experiment['cells_controlled'] = numcells\n",
    "experiment['pct_controlled'] = pct_cells\n",
    "experiment['controller_locs'] = [int(ix) for ix in ixes]\n",
    "experiment['cells_per_catch'] = cells_per_catch\n",
    "experiment['phi'] = 10\n",
    "output.update({'linear_k{0}_50pct_phi10'.format(k) : experiment})"
   ]
  },
  {
   "cell_type": "code",
   "execution_count": 45,
   "metadata": {},
   "outputs": [
    {
     "data": {
      "text/plain": [
       "0.515058658728769"
      ]
     },
     "execution_count": 45,
     "metadata": {},
     "output_type": "execute_result"
    }
   ],
   "source": [
    "pct_cells"
   ]
  },
  {
   "cell_type": "code",
   "execution_count": 46,
   "metadata": {},
   "outputs": [],
   "source": [
    "k = 30\n",
    "c = 6720 // k\n",
    "fdir = grid.view('catch')\n",
    "subs, ixes = differentiated_recursive_partition(fdir, c, k, weights=weights, dist_weights=dist_weights,\n",
    "                                                grid=grid, compute_weights=differentiated_linear_weights)\n",
    "ixy, ixx = np.unravel_index(ixes, wacc.shape)"
   ]
  },
  {
   "cell_type": "code",
   "execution_count": 47,
   "metadata": {},
   "outputs": [],
   "source": [
    "cells_per_catch = [np.count_nonzero(sub) for sub in subs]\n",
    "numcells = sum(cells_per_catch)\n",
    "pct_cells = float(numcells / acc.max())\n",
    "\n",
    "experiment = {}\n",
    "experiment['weighting'] = 'linear'\n",
    "experiment['num_controllers'] = k\n",
    "experiment['max_accumulation'] = c\n",
    "experiment['cells_controlled'] = numcells\n",
    "experiment['pct_controlled'] = pct_cells\n",
    "experiment['controller_locs'] = [int(ix) for ix in ixes]\n",
    "experiment['cells_per_catch'] = cells_per_catch\n",
    "experiment['phi'] = 10\n",
    "output.update({'linear_k{0}_50pct_phi10'.format(k) : experiment})"
   ]
  },
  {
   "cell_type": "code",
   "execution_count": 48,
   "metadata": {},
   "outputs": [
    {
     "data": {
      "text/plain": [
       "0.5169847662405883"
      ]
     },
     "execution_count": 48,
     "metadata": {},
     "output_type": "execute_result"
    }
   ],
   "source": [
    "pct_cells"
   ]
  },
  {
   "cell_type": "code",
   "execution_count": 49,
   "metadata": {},
   "outputs": [
    {
     "data": {
      "text/plain": [
       "True"
      ]
     },
     "execution_count": 49,
     "metadata": {},
     "output_type": "execute_result"
    }
   ],
   "source": [
    "(np.asarray(cells_per_catch) > 101).all()"
   ]
  },
  {
   "cell_type": "code",
   "execution_count": 50,
   "metadata": {},
   "outputs": [],
   "source": [
    "k = 35\n",
    "c = 6720 // k\n",
    "fdir = grid.view('catch')\n",
    "subs, ixes = differentiated_recursive_partition(fdir, c, k, weights=weights, dist_weights=dist_weights,\n",
    "                                                grid=grid, compute_weights=differentiated_linear_weights)\n",
    "ixy, ixx = np.unravel_index(ixes, wacc.shape)"
   ]
  },
  {
   "cell_type": "code",
   "execution_count": 51,
   "metadata": {},
   "outputs": [],
   "source": [
    "cells_per_catch = [np.count_nonzero(sub) for sub in subs]\n",
    "numcells = sum(cells_per_catch)\n",
    "pct_cells = float(numcells / acc.max())\n",
    "\n",
    "experiment = {}\n",
    "experiment['weighting'] = 'linear'\n",
    "experiment['num_controllers'] = k\n",
    "experiment['max_accumulation'] = c\n",
    "experiment['cells_controlled'] = numcells\n",
    "experiment['pct_controlled'] = pct_cells\n",
    "experiment['controller_locs'] = [int(ix) for ix in ixes]\n",
    "experiment['cells_per_catch'] = cells_per_catch\n",
    "experiment['phi'] = 10\n",
    "output.update({'linear_k{0}_50pct_phi10'.format(k) : experiment})"
   ]
  },
  {
   "cell_type": "code",
   "execution_count": 52,
   "metadata": {},
   "outputs": [
    {
     "data": {
      "text/plain": [
       "0.5083172824374015"
      ]
     },
     "execution_count": 52,
     "metadata": {},
     "output_type": "execute_result"
    }
   ],
   "source": [
    "pct_cells"
   ]
  },
  {
   "cell_type": "code",
   "execution_count": 53,
   "metadata": {},
   "outputs": [
    {
     "data": {
      "text/plain": [
       "True"
      ]
     },
     "execution_count": 53,
     "metadata": {},
     "output_type": "execute_result"
    }
   ],
   "source": [
    "(np.asarray(cells_per_catch) > 101).all()"
   ]
  },
  {
   "cell_type": "markdown",
   "metadata": {},
   "source": [
    "# Quadratic weighting"
   ]
  },
  {
   "cell_type": "code",
   "execution_count": 54,
   "metadata": {},
   "outputs": [],
   "source": [
    "weights = differentiated_power_weights(dists)"
   ]
  },
  {
   "cell_type": "code",
   "execution_count": 55,
   "metadata": {},
   "outputs": [],
   "source": [
    "acc = grid.accumulation(data='catch', dirmap=dirmap, inplace=False)\n",
    "wacc = grid.accumulation(data='catch', weights=weights, dirmap=dirmap, inplace=False)"
   ]
  },
  {
   "cell_type": "code",
   "execution_count": 56,
   "metadata": {},
   "outputs": [],
   "source": [
    "k = 1\n",
    "c = 6000\n",
    "fdir = grid.view('catch')\n",
    "subs, ixes = differentiated_recursive_partition(fdir, c, k, weights=weights, dist_weights=dist_weights,\n",
    "                                                grid=grid, compute_weights=differentiated_power_weights)\n",
    "ixy, ixx = np.unravel_index(ixes, acc.shape)"
   ]
  },
  {
   "cell_type": "code",
   "execution_count": 57,
   "metadata": {},
   "outputs": [],
   "source": [
    "cells_per_catch = [np.count_nonzero(sub) for sub in subs]\n",
    "numcells = sum(cells_per_catch)\n",
    "pct_cells = float(numcells / acc.max())\n",
    "\n",
    "experiment = {}\n",
    "experiment['weighting'] = 'quadratic'\n",
    "experiment['num_controllers'] = k\n",
    "experiment['max_accumulation'] = c\n",
    "experiment['cells_controlled'] = numcells\n",
    "experiment['pct_controlled'] = pct_cells\n",
    "experiment['controller_locs'] = [int(ix) for ix in ixes]\n",
    "experiment['cells_per_catch'] = cells_per_catch\n",
    "experiment['phi'] = 10\n",
    "output.update({'quadratic_k{0}_50pct_phi10'.format(k) : experiment})"
   ]
  },
  {
   "cell_type": "code",
   "execution_count": 58,
   "metadata": {},
   "outputs": [
    {
     "data": {
      "text/plain": [
       "0.5248642969707582"
      ]
     },
     "execution_count": 58,
     "metadata": {},
     "output_type": "execute_result"
    }
   ],
   "source": [
    "pct_cells"
   ]
  },
  {
   "cell_type": "code",
   "execution_count": 59,
   "metadata": {},
   "outputs": [],
   "source": [
    "k = 2\n",
    "c = 3300\n",
    "fdir = grid.view('catch')\n",
    "subs, ixes = differentiated_recursive_partition(fdir, c, k, weights=weights, dist_weights=dist_weights,\n",
    "                                                grid=grid, compute_weights=differentiated_power_weights)\n",
    "ixy, ixx = np.unravel_index(ixes, wacc.shape)"
   ]
  },
  {
   "cell_type": "code",
   "execution_count": 60,
   "metadata": {},
   "outputs": [],
   "source": [
    "cells_per_catch = [np.count_nonzero(sub) for sub in subs]\n",
    "numcells = sum(cells_per_catch)\n",
    "pct_cells = float(numcells / acc.max())\n",
    "\n",
    "experiment = {}\n",
    "experiment['weighting'] = 'quadratic'\n",
    "experiment['num_controllers'] = k\n",
    "experiment['max_accumulation'] = c\n",
    "experiment['cells_controlled'] = numcells\n",
    "experiment['pct_controlled'] = pct_cells\n",
    "experiment['controller_locs'] = [int(ix) for ix in ixes]\n",
    "experiment['cells_per_catch'] = cells_per_catch\n",
    "experiment['phi'] = 10\n",
    "output.update({'quadratic_k{0}_50pct_phi10'.format(k) : experiment})"
   ]
  },
  {
   "cell_type": "code",
   "execution_count": 61,
   "metadata": {},
   "outputs": [
    {
     "data": {
      "text/plain": [
       "0.5257398003852215"
      ]
     },
     "execution_count": 61,
     "metadata": {},
     "output_type": "execute_result"
    }
   ],
   "source": [
    "pct_cells"
   ]
  },
  {
   "cell_type": "code",
   "execution_count": 62,
   "metadata": {},
   "outputs": [],
   "source": [
    "k = 3\n",
    "c = 6900 // 3\n",
    "fdir = grid.view('catch')\n",
    "subs, ixes = differentiated_recursive_partition(fdir, c, k, weights=weights, dist_weights=dist_weights,\n",
    "                                                grid=grid, compute_weights=differentiated_power_weights)\n",
    "ixy, ixx = np.unravel_index(ixes, wacc.shape)"
   ]
  },
  {
   "cell_type": "code",
   "execution_count": 63,
   "metadata": {},
   "outputs": [],
   "source": [
    "cells_per_catch = [np.count_nonzero(sub) for sub in subs]\n",
    "numcells = sum(cells_per_catch)\n",
    "pct_cells = float(numcells / acc.max())\n",
    "\n",
    "experiment = {}\n",
    "experiment['weighting'] = 'quadratic'\n",
    "experiment['num_controllers'] = k\n",
    "experiment['max_accumulation'] = c\n",
    "experiment['cells_controlled'] = numcells\n",
    "experiment['pct_controlled'] = pct_cells\n",
    "experiment['controller_locs'] = [int(ix) for ix in ixes]\n",
    "experiment['cells_per_catch'] = cells_per_catch\n",
    "experiment['phi'] = 10\n",
    "output.update({'quadratic_k{0}_50pct_phi10'.format(k) : experiment})"
   ]
  },
  {
   "cell_type": "code",
   "execution_count": 64,
   "metadata": {},
   "outputs": [
    {
     "data": {
      "text/plain": [
       "0.4905445631237962"
      ]
     },
     "execution_count": 64,
     "metadata": {},
     "output_type": "execute_result"
    }
   ],
   "source": [
    "pct_cells"
   ]
  },
  {
   "cell_type": "code",
   "execution_count": 65,
   "metadata": {},
   "outputs": [],
   "source": [
    "k = 4\n",
    "c = 6500 // k\n",
    "fdir = grid.view('catch')\n",
    "subs, ixes = differentiated_recursive_partition(fdir, c, k, weights=weights, dist_weights=dist_weights,\n",
    "                                                grid=grid, compute_weights=differentiated_power_weights)\n",
    "ixy, ixx = np.unravel_index(ixes, wacc.shape)"
   ]
  },
  {
   "cell_type": "code",
   "execution_count": 66,
   "metadata": {},
   "outputs": [],
   "source": [
    "cells_per_catch = [np.count_nonzero(sub) for sub in subs]\n",
    "numcells = sum(cells_per_catch)\n",
    "pct_cells = float(numcells / acc.max())\n",
    "\n",
    "experiment = {}\n",
    "experiment['weighting'] = 'quadratic'\n",
    "experiment['num_controllers'] = k\n",
    "experiment['max_accumulation'] = c\n",
    "experiment['cells_controlled'] = numcells\n",
    "experiment['pct_controlled'] = pct_cells\n",
    "experiment['controller_locs'] = [int(ix) for ix in ixes]\n",
    "experiment['cells_per_catch'] = cells_per_catch\n",
    "experiment['phi'] = 10\n",
    "output.update({'quadratic_k{0}_50pct_phi10'.format(k) : experiment})"
   ]
  },
  {
   "cell_type": "code",
   "execution_count": 67,
   "metadata": {},
   "outputs": [
    {
     "data": {
      "text/plain": [
       "0.4903694624409035"
      ]
     },
     "execution_count": 67,
     "metadata": {},
     "output_type": "execute_result"
    }
   ],
   "source": [
    "pct_cells"
   ]
  },
  {
   "cell_type": "code",
   "execution_count": 68,
   "metadata": {},
   "outputs": [],
   "source": [
    "k = 5\n",
    "c = 6500 // k\n",
    "fdir = grid.view('catch')\n",
    "subs, ixes = differentiated_recursive_partition(fdir, c, k, weights=weights, dist_weights=dist_weights,\n",
    "                                                grid=grid, compute_weights=differentiated_power_weights)\n",
    "ixy, ixx = np.unravel_index(ixes, wacc.shape)"
   ]
  },
  {
   "cell_type": "code",
   "execution_count": 69,
   "metadata": {},
   "outputs": [],
   "source": [
    "cells_per_catch = [np.count_nonzero(sub) for sub in subs]\n",
    "numcells = sum(cells_per_catch)\n",
    "pct_cells = float(numcells / acc.max())\n",
    "\n",
    "experiment = {}\n",
    "experiment['weighting'] = 'quadratic'\n",
    "experiment['num_controllers'] = k\n",
    "experiment['max_accumulation'] = c\n",
    "experiment['cells_controlled'] = numcells\n",
    "experiment['pct_controlled'] = pct_cells\n",
    "experiment['controller_locs'] = [int(ix) for ix in ixes]\n",
    "experiment['cells_per_catch'] = cells_per_catch\n",
    "experiment['phi'] = 10\n",
    "output.update({'quadratic_k{0}_50pct_phi10'.format(k) : experiment})"
   ]
  },
  {
   "cell_type": "code",
   "execution_count": 70,
   "metadata": {},
   "outputs": [
    {
     "data": {
      "text/plain": [
       "0.48905620731920857"
      ]
     },
     "execution_count": 70,
     "metadata": {},
     "output_type": "execute_result"
    }
   ],
   "source": [
    "pct_cells"
   ]
  },
  {
   "cell_type": "code",
   "execution_count": 71,
   "metadata": {},
   "outputs": [],
   "source": [
    "k = 6\n",
    "c = 6900 // k\n",
    "fdir = grid.view('catch')\n",
    "subs, ixes = differentiated_recursive_partition(fdir, c, k, weights=weights, dist_weights=dist_weights,\n",
    "                                                grid=grid, compute_weights=differentiated_power_weights)\n",
    "ixy, ixx = np.unravel_index(ixes, wacc.shape)"
   ]
  },
  {
   "cell_type": "code",
   "execution_count": 72,
   "metadata": {},
   "outputs": [],
   "source": [
    "cells_per_catch = [np.count_nonzero(sub) for sub in subs]\n",
    "numcells = sum(cells_per_catch)\n",
    "pct_cells = float(numcells / acc.max())\n",
    "\n",
    "experiment = {}\n",
    "experiment['weighting'] = 'quadratic'\n",
    "experiment['num_controllers'] = k\n",
    "experiment['max_accumulation'] = c\n",
    "experiment['cells_controlled'] = numcells\n",
    "experiment['pct_controlled'] = pct_cells\n",
    "experiment['controller_locs'] = [int(ix) for ix in ixes]\n",
    "experiment['cells_per_catch'] = cells_per_catch\n",
    "experiment['phi'] = 10\n",
    "output.update({'quadratic_k{0}_50pct_phi10'.format(k) : experiment})"
   ]
  },
  {
   "cell_type": "code",
   "execution_count": 73,
   "metadata": {},
   "outputs": [
    {
     "data": {
      "text/plain": [
       "0.5084048327788478"
      ]
     },
     "execution_count": 73,
     "metadata": {},
     "output_type": "execute_result"
    }
   ],
   "source": [
    "pct_cells"
   ]
  },
  {
   "cell_type": "code",
   "execution_count": 74,
   "metadata": {},
   "outputs": [],
   "source": [
    "k = 8\n",
    "c = 7000 // k\n",
    "fdir = grid.view('catch')\n",
    "subs, ixes = differentiated_recursive_partition(fdir, c, k, weights=weights, dist_weights=dist_weights,\n",
    "                                                grid=grid, compute_weights=differentiated_power_weights)\n",
    "ixy, ixx = np.unravel_index(ixes, wacc.shape)"
   ]
  },
  {
   "cell_type": "code",
   "execution_count": 75,
   "metadata": {},
   "outputs": [],
   "source": [
    "cells_per_catch = [np.count_nonzero(sub) for sub in subs]\n",
    "numcells = sum(cells_per_catch)\n",
    "pct_cells = float(numcells / acc.max())\n",
    "\n",
    "experiment = {}\n",
    "experiment['weighting'] = 'quadratic'\n",
    "experiment['num_controllers'] = k\n",
    "experiment['max_accumulation'] = c\n",
    "experiment['cells_controlled'] = numcells\n",
    "experiment['pct_controlled'] = pct_cells\n",
    "experiment['controller_locs'] = [int(ix) for ix in ixes]\n",
    "experiment['cells_per_catch'] = cells_per_catch\n",
    "experiment['phi'] = 10\n",
    "output.update({'quadratic_k{0}_50pct_phi10'.format(k) : experiment})"
   ]
  },
  {
   "cell_type": "code",
   "execution_count": 76,
   "metadata": {},
   "outputs": [
    {
     "data": {
      "text/plain": [
       "0.5182980213622833"
      ]
     },
     "execution_count": 76,
     "metadata": {},
     "output_type": "execute_result"
    }
   ],
   "source": [
    "pct_cells"
   ]
  },
  {
   "cell_type": "code",
   "execution_count": 77,
   "metadata": {},
   "outputs": [],
   "source": [
    "k = 10\n",
    "c = 6500 // k\n",
    "fdir = grid.view('catch')\n",
    "subs, ixes = differentiated_recursive_partition(fdir, c, k, weights=weights, dist_weights=dist_weights,\n",
    "                                                grid=grid, compute_weights=differentiated_power_weights)\n",
    "ixy, ixx = np.unravel_index(ixes, wacc.shape)"
   ]
  },
  {
   "cell_type": "code",
   "execution_count": 78,
   "metadata": {},
   "outputs": [],
   "source": [
    "cells_per_catch = [np.count_nonzero(sub) for sub in subs]\n",
    "numcells = sum(cells_per_catch)\n",
    "pct_cells = float(numcells / acc.max())\n",
    "\n",
    "experiment = {}\n",
    "experiment['weighting'] = 'quadratic'\n",
    "experiment['num_controllers'] = k\n",
    "experiment['max_accumulation'] = c\n",
    "experiment['cells_controlled'] = numcells\n",
    "experiment['pct_controlled'] = pct_cells\n",
    "experiment['controller_locs'] = [int(ix) for ix in ixes]\n",
    "experiment['cells_per_catch'] = cells_per_catch\n",
    "experiment['phi'] = 10\n",
    "output.update({'quadratic_k{0}_50pct_phi10'.format(k) : experiment})"
   ]
  },
  {
   "cell_type": "code",
   "execution_count": 79,
   "metadata": {},
   "outputs": [
    {
     "data": {
      "text/plain": [
       "0.49903694624409034"
      ]
     },
     "execution_count": 79,
     "metadata": {},
     "output_type": "execute_result"
    }
   ],
   "source": [
    "pct_cells"
   ]
  },
  {
   "cell_type": "code",
   "execution_count": 80,
   "metadata": {},
   "outputs": [],
   "source": [
    "k = 12\n",
    "c = 6950 // k\n",
    "fdir = grid.view('catch')\n",
    "subs, ixes = differentiated_recursive_partition(fdir, c, k, weights=weights, dist_weights=dist_weights,\n",
    "                                                grid=grid, compute_weights=differentiated_power_weights)\n",
    "ixy, ixx = np.unravel_index(ixes, wacc.shape)"
   ]
  },
  {
   "cell_type": "code",
   "execution_count": 81,
   "metadata": {},
   "outputs": [],
   "source": [
    "cells_per_catch = [np.count_nonzero(sub) for sub in subs]\n",
    "numcells = sum(cells_per_catch)\n",
    "pct_cells = float(numcells / acc.max())\n",
    "\n",
    "experiment = {}\n",
    "experiment['weighting'] = 'quadratic'\n",
    "experiment['num_controllers'] = k\n",
    "experiment['max_accumulation'] = c\n",
    "experiment['cells_controlled'] = numcells\n",
    "experiment['pct_controlled'] = pct_cells\n",
    "experiment['controller_locs'] = [int(ix) for ix in ixes]\n",
    "experiment['cells_per_catch'] = cells_per_catch\n",
    "experiment['phi'] = 10\n",
    "output.update({'quadratic_k{0}_50pct_phi10'.format(k) : experiment})"
   ]
  },
  {
   "cell_type": "code",
   "execution_count": 82,
   "metadata": {},
   "outputs": [
    {
     "data": {
      "text/plain": [
       "0.515058658728769"
      ]
     },
     "execution_count": 82,
     "metadata": {},
     "output_type": "execute_result"
    }
   ],
   "source": [
    "pct_cells"
   ]
  },
  {
   "cell_type": "code",
   "execution_count": 83,
   "metadata": {},
   "outputs": [],
   "source": [
    "k = 14\n",
    "c = 6950 // k\n",
    "fdir = grid.view('catch')\n",
    "subs, ixes = differentiated_recursive_partition(fdir, c, k, weights=weights, dist_weights=dist_weights,\n",
    "                                                grid=grid, compute_weights=differentiated_power_weights)\n",
    "ixy, ixx = np.unravel_index(ixes, wacc.shape)"
   ]
  },
  {
   "cell_type": "code",
   "execution_count": 84,
   "metadata": {},
   "outputs": [],
   "source": [
    "cells_per_catch = [np.count_nonzero(sub) for sub in subs]\n",
    "numcells = sum(cells_per_catch)\n",
    "pct_cells = float(numcells / acc.max())\n",
    "\n",
    "experiment = {}\n",
    "experiment['weighting'] = 'quadratic'\n",
    "experiment['num_controllers'] = k\n",
    "experiment['max_accumulation'] = c\n",
    "experiment['cells_controlled'] = numcells\n",
    "experiment['pct_controlled'] = pct_cells\n",
    "experiment['controller_locs'] = [int(ix) for ix in ixes]\n",
    "experiment['cells_per_catch'] = cells_per_catch\n",
    "experiment['phi'] = 10\n",
    "output.update({'quadratic_k{0}_50pct_phi10'.format(k) : experiment})"
   ]
  },
  {
   "cell_type": "code",
   "execution_count": 85,
   "metadata": {},
   "outputs": [
    {
     "data": {
      "text/plain": [
       "0.5217124846786902"
      ]
     },
     "execution_count": 85,
     "metadata": {},
     "output_type": "execute_result"
    }
   ],
   "source": [
    "pct_cells"
   ]
  },
  {
   "cell_type": "code",
   "execution_count": 86,
   "metadata": {},
   "outputs": [],
   "source": [
    "k = 16\n",
    "c = 7000 // k\n",
    "fdir = grid.view('catch')\n",
    "subs, ixes = differentiated_recursive_partition(fdir, c, k, weights=weights, dist_weights=dist_weights,\n",
    "                                                grid=grid, compute_weights=differentiated_power_weights)\n",
    "ixy, ixx = np.unravel_index(ixes, wacc.shape)"
   ]
  },
  {
   "cell_type": "code",
   "execution_count": 87,
   "metadata": {},
   "outputs": [],
   "source": [
    "cells_per_catch = [np.count_nonzero(sub) for sub in subs]\n",
    "numcells = sum(cells_per_catch)\n",
    "pct_cells = float(numcells / acc.max())\n",
    "\n",
    "experiment = {}\n",
    "experiment['weighting'] = 'quadratic'\n",
    "experiment['num_controllers'] = k\n",
    "experiment['max_accumulation'] = c\n",
    "experiment['cells_controlled'] = numcells\n",
    "experiment['pct_controlled'] = pct_cells\n",
    "experiment['controller_locs'] = [int(ix) for ix in ixes]\n",
    "experiment['cells_per_catch'] = cells_per_catch\n",
    "experiment['phi'] = 10\n",
    "output.update({'quadratic_k{0}_50pct_phi10'.format(k) : experiment})"
   ]
  },
  {
   "cell_type": "code",
   "execution_count": 88,
   "metadata": {},
   "outputs": [
    {
     "data": {
      "text/plain": [
       "0.49212046926983016"
      ]
     },
     "execution_count": 88,
     "metadata": {},
     "output_type": "execute_result"
    }
   ],
   "source": [
    "pct_cells"
   ]
  },
  {
   "cell_type": "code",
   "execution_count": 89,
   "metadata": {},
   "outputs": [],
   "source": [
    "k = 18\n",
    "c = 7500 // k\n",
    "fdir = grid.view('catch')\n",
    "subs, ixes = differentiated_recursive_partition(fdir, c, k, weights=weights, dist_weights=dist_weights,\n",
    "                                                grid=grid, compute_weights=differentiated_power_weights)\n",
    "ixy, ixx = np.unravel_index(ixes, wacc.shape)"
   ]
  },
  {
   "cell_type": "code",
   "execution_count": 90,
   "metadata": {},
   "outputs": [],
   "source": [
    "cells_per_catch = [np.count_nonzero(sub) for sub in subs]\n",
    "numcells = sum(cells_per_catch)\n",
    "pct_cells = float(numcells / acc.max())\n",
    "\n",
    "experiment = {}\n",
    "experiment['weighting'] = 'quadratic'\n",
    "experiment['num_controllers'] = k\n",
    "experiment['max_accumulation'] = c\n",
    "experiment['cells_controlled'] = numcells\n",
    "experiment['pct_controlled'] = pct_cells\n",
    "experiment['controller_locs'] = [int(ix) for ix in ixes]\n",
    "experiment['cells_per_catch'] = cells_per_catch\n",
    "experiment['phi'] = 10\n",
    "output.update({'quadratic_k{0}_50pct_phi10'.format(k) : experiment})"
   ]
  },
  {
   "cell_type": "code",
   "execution_count": 91,
   "metadata": {},
   "outputs": [
    {
     "data": {
      "text/plain": [
       "0.498424093853966"
      ]
     },
     "execution_count": 91,
     "metadata": {},
     "output_type": "execute_result"
    }
   ],
   "source": [
    "pct_cells"
   ]
  },
  {
   "cell_type": "code",
   "execution_count": 92,
   "metadata": {},
   "outputs": [],
   "source": [
    "k = 20\n",
    "c = 7400 // k\n",
    "fdir = grid.view('catch')\n",
    "subs, ixes = differentiated_recursive_partition(fdir, c, k, weights=weights, dist_weights=dist_weights,\n",
    "                                                grid=grid, compute_weights=differentiated_power_weights)\n",
    "ixy, ixx = np.unravel_index(ixes, wacc.shape)"
   ]
  },
  {
   "cell_type": "code",
   "execution_count": 93,
   "metadata": {},
   "outputs": [],
   "source": [
    "cells_per_catch = [np.count_nonzero(sub) for sub in subs]\n",
    "numcells = sum(cells_per_catch)\n",
    "pct_cells = float(numcells / acc.max())\n",
    "\n",
    "experiment = {}\n",
    "experiment['weighting'] = 'quadratic'\n",
    "experiment['num_controllers'] = k\n",
    "experiment['max_accumulation'] = c\n",
    "experiment['cells_controlled'] = numcells\n",
    "experiment['pct_controlled'] = pct_cells\n",
    "experiment['controller_locs'] = [int(ix) for ix in ixes]\n",
    "experiment['cells_per_catch'] = cells_per_catch\n",
    "experiment['phi'] = 10\n",
    "output.update({'quadratic_k{0}_50pct_phi10'.format(k) : experiment})"
   ]
  },
  {
   "cell_type": "code",
   "execution_count": 94,
   "metadata": {},
   "outputs": [
    {
     "data": {
      "text/plain": [
       "0.5034144633164069"
      ]
     },
     "execution_count": 94,
     "metadata": {},
     "output_type": "execute_result"
    }
   ],
   "source": [
    "pct_cells"
   ]
  },
  {
   "cell_type": "markdown",
   "metadata": {},
   "source": [
    "# Randomized naive implementation"
   ]
  },
  {
   "cell_type": "code",
   "execution_count": 95,
   "metadata": {},
   "outputs": [],
   "source": [
    "k = 2\n",
    "target_cells = 6600\n",
    "fdir = grid.view('catch')\n",
    "\n",
    "subs, ixes = naive_partition(fdir, target_cells, k, grid, size_range=[500,2000], tolerance_spread=100)\n",
    "cells_per_catch = [np.count_nonzero(sub) for sub in subs]\n",
    "numcells_ = sum(cells_per_catch)\n",
    "pct_cells = float(numcells / acc.max())"
   ]
  },
  {
   "cell_type": "code",
   "execution_count": 96,
   "metadata": {},
   "outputs": [
    {
     "name": "stdout",
     "output_type": "stream",
     "text": [
      "Undersized catchments\n",
      "Out of range\n",
      "Undersized catchments\n",
      "Out of range\n",
      "Out of range\n",
      "Out of range\n",
      "Undersized catchments\n",
      "Undersized catchments\n",
      "Undersized catchments\n",
      "Out of range\n",
      "Undersized catchments\n",
      "Out of range\n",
      "Undersized catchments\n",
      "Undersized catchments\n",
      "Out of range\n",
      "Out of range\n",
      "Out of range\n",
      "Undersized catchments\n",
      "Undersized catchments\n",
      "Undersized catchments\n",
      "Undersized catchments\n",
      "Out of range\n",
      "Out of range\n",
      "Undersized catchments\n",
      "Undersized catchments\n",
      "Undersized catchments\n",
      "Out of range\n",
      "Undersized catchments\n",
      "Out of range\n",
      "Undersized catchments\n",
      "Out of range\n",
      "Undersized catchments\n",
      "Undersized catchments\n",
      "Undersized catchments\n",
      "Undersized catchments\n",
      "Undersized catchments\n",
      "Undersized catchments\n",
      "Out of range\n",
      "Undersized catchments\n",
      "Undersized catchments\n",
      "Out of range\n",
      "Undersized catchments\n",
      "Out of range\n",
      "Undersized catchments\n",
      "Failed to find subcatchment\n",
      "Failed to find subcatchment\n",
      "Undersized catchments\n",
      "Undersized catchments\n",
      "Out of range\n",
      "Out of range\n",
      "Undersized catchments\n",
      "Out of range\n",
      "Undersized catchments\n",
      "Out of range\n",
      "Undersized catchments\n",
      "Out of range\n",
      "Out of range\n",
      "Undersized catchments\n",
      "Undersized catchments\n",
      "Undersized catchments\n",
      "Out of range\n",
      "Undersized catchments\n",
      "Failed to find subcatchment\n",
      "Failed to find subcatchment\n",
      "Failed to find subcatchment\n",
      "Failed to find subcatchment\n",
      "Undersized catchments\n",
      "Out of range\n",
      "Undersized catchments\n",
      "Undersized catchments\n",
      "Out of range\n",
      "Undersized catchments\n",
      "Undersized catchments\n",
      "Undersized catchments\n",
      "Undersized catchments\n",
      "Undersized catchments\n",
      "Undersized catchments\n",
      "Undersized catchments\n",
      "Out of range\n",
      "Out of range\n",
      "Out of range\n",
      "Undersized catchments\n",
      "Out of range\n",
      "Undersized catchments\n",
      "Undersized catchments\n",
      "Undersized catchments\n",
      "Undersized catchments\n",
      "Undersized catchments\n"
     ]
    }
   ],
   "source": [
    "iterations = 50\n",
    "i = 0\n",
    "while iterations > 0:\n",
    "    np.random.seed(i+20)\n",
    "    k = np.random.randint(1,35)\n",
    "    target_cells = 5700\n",
    "    fdir = grid.view('catch')\n",
    "    ixy, ixx = np.unravel_index(ixes, wacc.shape)\n",
    "    subs, ixes = naive_partition(fdir, target_cells, k, grid, size_range=[max(101, target_cells // (2*k)), 2 * target_cells // k],\n",
    "                                 tolerance_spread=target_cells // 20, use_seed=True, seed_0=i+1, seed_1=i+2)\n",
    "\n",
    "    cells_per_catch_ = [np.count_nonzero(sub) for sub in subs]\n",
    "    numcells_ = sum(cells_per_catch_)\n",
    "    pct_cells_ = float(numcells_ / acc.max())\n",
    "    i += 1\n",
    "    if (pct_cells_ > 0.465) and (pct_cells_ < 0.53):\n",
    "        if (np.asarray(cells_per_catch_) > 101).all():\n",
    "            experiment = {}\n",
    "            experiment['weighting'] = 'naive'\n",
    "            experiment['num_controllers'] = len(subs)\n",
    "            experiment['max_accumulation'] = c\n",
    "            experiment['cells_controlled'] = numcells_\n",
    "            experiment['pct_controlled'] = pct_cells_\n",
    "            experiment['controller_locs'] = [int(ix) for ix in ixes]\n",
    "            experiment['cells_per_catch'] = cells_per_catch_\n",
    "            output.update({'naive_k{0}_50pct_{1}'.format(len(subs), i) : experiment})\n",
    "            iterations -= 1\n",
    "        else:\n",
    "            print(\"Undersized catchments\")\n",
    "    else:\n",
    "        print(\"Out of range\")"
   ]
  },
  {
   "cell_type": "code",
   "execution_count": 97,
   "metadata": {},
   "outputs": [],
   "source": [
    "with open('../data/experiments_differentiated_50pct_phi10.json', 'w') as outfile:\n",
    "    json.dump(output, outfile)"
   ]
  },
  {
   "cell_type": "code",
   "execution_count": null,
   "metadata": {},
   "outputs": [],
   "source": []
  }
 ],
 "metadata": {
  "kernelspec": {
   "display_name": "Python 3",
   "language": "python",
   "name": "python3"
  },
  "language_info": {
   "codemirror_mode": {
    "name": "ipython",
    "version": 3
   },
   "file_extension": ".py",
   "mimetype": "text/x-python",
   "name": "python",
   "nbconvert_exporter": "python",
   "pygments_lexer": "ipython3",
   "version": "3.6.0"
  }
 },
 "nbformat": 4,
 "nbformat_minor": 2
}
